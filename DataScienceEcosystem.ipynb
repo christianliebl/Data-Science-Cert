{
 "cells": [
  {
   "cell_type": "markdown",
   "id": "b5b83d57-c18e-4124-b025-d659573cf785",
   "metadata": {},
   "source": [
    "# Data Science Tools and Ecosystems"
   ]
  },
  {
   "cell_type": "markdown",
   "id": "f73c578a-840e-4a14-b8c7-4072464723be",
   "metadata": {},
   "source": [
    "In this notebook, Data Science Tools and Ecosystem are summarized."
   ]
  },
  {
   "cell_type": "markdown",
   "id": "4f2f8aa2-22e6-4c3f-ac16-5bec047b53b8",
   "metadata": {},
   "source": [
    "Some of the popular languages that Data Scientists use are:\n",
    "1. Python\n",
    "2. R\n",
    "3. Julia"
   ]
  },
  {
   "cell_type": "markdown",
   "id": "1b06108f-d1fa-4117-8c9c-4cd529fb27ea",
   "metadata": {},
   "source": [
    "Some of the commonly used libraries used by Data Scientists include:\n",
    "1. pandas\n",
    "2. numpy\n",
    "3. matplotlib"
   ]
  },
  {
   "cell_type": "markdown",
   "id": "bb7acfb9-8a89-42d3-95cc-1817bfae7d30",
   "metadata": {},
   "source": [
    "Data Science Tools\n",
    "1. Jupyter Notebooks\n",
    "2. R Studio\n",
    "3. Zeppelin Notebooks"
   ]
  },
  {
   "cell_type": "markdown",
   "id": "2357bce8-a9a4-49b9-b2dd-1098859453b6",
   "metadata": {},
   "source": [
    "### Below are a few examples of evaluating arithmetic expressions in Python."
   ]
  },
  {
   "cell_type": "code",
   "execution_count": 2,
   "id": "6ebb33f2-0152-4e58-91fd-d3e3fc9ce440",
   "metadata": {},
   "outputs": [
    {
     "data": {
      "text/plain": [
       "17.0"
      ]
     },
     "execution_count": 2,
     "metadata": {},
     "output_type": "execute_result"
    }
   ],
   "source": [
    "#This a simple arithmetic expression to mutiply then add integers.\n",
    "(3*4)+5."
   ]
  },
  {
   "cell_type": "code",
   "execution_count": 4,
   "id": "8952c5da-7d08-40f1-a813-afe1c3b55fd3",
   "metadata": {},
   "outputs": [
    {
     "data": {
      "text/plain": [
       "3.33"
      ]
     },
     "execution_count": 4,
     "metadata": {},
     "output_type": "execute_result"
    }
   ],
   "source": [
    "#This will convert 200 minutes to hours by diving by 60.\n",
    "round(200/60,2)"
   ]
  },
  {
   "cell_type": "markdown",
   "id": "7e7b8004-7aec-4613-ae07-f8b9a34c207d",
   "metadata": {},
   "source": [
    "**Objectives:**\n",
    "- List popular languages for data science\n",
    "- List commonly used libraries for data science\n",
    "- List popular data science environments\n",
    "- Use Markdown\n",
    "- Share a Jupyter Notebook on Github"
   ]
  },
  {
   "cell_type": "markdown",
   "id": "696bd8b8-65fc-47f3-8516-12831c2045c5",
   "metadata": {},
   "source": [
    "## Author\n",
    "Christian Liebl"
   ]
  }
 ],
 "metadata": {
  "kernelspec": {
   "display_name": "Python 3 (ipykernel)",
   "language": "python",
   "name": "python3"
  },
  "language_info": {
   "codemirror_mode": {
    "name": "ipython",
    "version": 3
   },
   "file_extension": ".py",
   "mimetype": "text/x-python",
   "name": "python",
   "nbconvert_exporter": "python",
   "pygments_lexer": "ipython3",
   "version": "3.12.4"
  }
 },
 "nbformat": 4,
 "nbformat_minor": 5
}
